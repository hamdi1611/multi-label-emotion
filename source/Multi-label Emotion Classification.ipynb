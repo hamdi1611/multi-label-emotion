{
 "cells": [
  {
   "cell_type": "markdown",
   "metadata": {},
   "source": [
    "# Multi-label Emotion Classification\n",
    "Data is about emotion detection in Indonesian user comments.<br>\n",
    "Source: [emotion_riza](https://dataturks.com/projects/rizki.fauzi/emotion_riza)<br>\n",
    "*The JSON data has been converted to multi-label csv data\n",
    "\n",
    "There are 8 labels in classifying the comments:\n",
    "- trust\n",
    "- fear\n",
    "- surprise\n",
    "- sadness\n",
    "- disgust\n",
    "- anger\n",
    "- anticipation\n",
    "- joy\n",
    "\n",
    "Source:\n",
    "- [emotion_riza dataset (in JSON)](https://dataturks.com/projects/rizki.fauzi/emotion_riza)\n",
    "- [\"NB-SVM strong linear baseline\" kernel](https://www.kaggle.com/jhoward/nb-svm-strong-linear-baseline)"
   ]
  },
  {
   "cell_type": "code",
   "execution_count": null,
   "metadata": {},
   "outputs": [],
   "source": []
  }
 ],
 "metadata": {
  "kernelspec": {
   "display_name": "Python 3",
   "language": "python",
   "name": "python3"
  },
  "language_info": {
   "codemirror_mode": {
    "name": "ipython",
    "version": 3
   },
   "file_extension": ".py",
   "mimetype": "text/x-python",
   "name": "python",
   "nbconvert_exporter": "python",
   "pygments_lexer": "ipython3",
   "version": "3.6.7"
  }
 },
 "nbformat": 4,
 "nbformat_minor": 2
}

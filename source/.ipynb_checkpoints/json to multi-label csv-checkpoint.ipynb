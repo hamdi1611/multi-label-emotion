{
 "cells": [
  {
   "cell_type": "markdown",
   "metadata": {},
   "source": [
    "# Convert <font color='red'>JSON data</font> into <font color='red'>multi-label data in CSV</font>"
   ]
  },
  {
   "cell_type": "code",
   "execution_count": 2,
   "metadata": {
    "scrolled": true
   },
   "outputs": [],
   "source": [
    "import json\n",
    "import pandas as pd"
   ]
  },
  {
   "cell_type": "markdown",
   "metadata": {},
   "source": [
    "Data is about emotion detection in Indonesian user comments.\n",
    "Source: [emotion_riza](https://dataturks.com/projects/rizki.fauzi/emotion_riza)\n",
    "\n",
    "There are 8 labels in classifying the comments:\n",
    "- trust\n",
    "- fear\n",
    "- surprise\n",
    "- sadness\n",
    "- disgust\n",
    "- anger\n",
    "- anticipation\n",
    "- joy"
   ]
  },
  {
   "cell_type": "code",
   "execution_count": 3,
   "metadata": {},
   "outputs": [],
   "source": [
    "# Open file on read mode\n",
    "fp = open('../input/emotion_riza.json')\n",
    "\n",
    "# Create a list containing all lines\n",
    "jsondata = fp.read().split(\"\\n\")\n",
    "\n",
    "# Close file \n",
    "fp.close()"
   ]
  },
  {
   "cell_type": "code",
   "execution_count": 21,
   "metadata": {},
   "outputs": [
    {
     "name": "stdout",
     "output_type": "stream",
     "text": [
      "8683 \n"
     ]
    }
   ],
   "source": [
    "# Prepare the dataframe\n",
    "df = pd.DataFrame(columns=['text', 'trust', 'fear', 'surprise', 'sadness', 'disgust', 'anger', 'anticipation', 'joy'])\n",
    "\n",
    "# Check the legnth of jsondata\n",
    "print(len(jsondata), jsondata[8682])"
   ]
  },
  {
   "cell_type": "code",
   "execution_count": 22,
   "metadata": {},
   "outputs": [
    {
     "name": "stdout",
     "output_type": "stream",
     "text": [
      "{\"content\": \"@04Nakula @jokowi @prabowo @Gerindra @DailymotionUSA pdhl poros ke3 ini sebenarnya mau nelikung koalisi dr @prabowo…\",\"annotation\":{\"labels\":[\"joy\"],\"note\":\"\"},\"extras\":null,\"metadata\":{\"first_done_at\":1527710555000,\"last_updated_at\":1527710555000,\"sec_taken\":6,\"last_updated_by\":\"a31puKbtO4fdTOgO7YPfppu3GR52\",\"status\":\"done\",\"evaluation\":\"NONE\"}}\n"
     ]
    }
   ],
   "source": [
    "# See the structure of json data\n",
    "print(jsondata[0])"
   ]
  },
  {
   "cell_type": "code",
   "execution_count": 20,
   "metadata": {},
   "outputs": [
    {
     "data": {
      "text/plain": [
       "{'trust': 1}"
      ]
     },
     "execution_count": 20,
     "metadata": {},
     "output_type": "execute_result"
    }
   ],
   "source": []
  },
  {
   "cell_type": "code",
   "execution_count": 27,
   "metadata": {},
   "outputs": [
    {
     "ename": "AttributeError",
     "evalue": "'dict' object has no attribute 'iteritems'",
     "output_type": "error",
     "traceback": [
      "\u001b[0;31m---------------------------------------------------------------------------\u001b[0m",
      "\u001b[0;31mAttributeError\u001b[0m                            Traceback (most recent call last)",
      "\u001b[0;32m<ipython-input-27-9856bcff5361>\u001b[0m in \u001b[0;36m<module>\u001b[0;34m\u001b[0m\n\u001b[1;32m     25\u001b[0m     \u001b[0;31m# Data's format will be ['text', 'trust', 'fear', 'surprise', 'sadness', 'disgust', 'anger', 'anticipation', 'joy']\u001b[0m\u001b[0;34m\u001b[0m\u001b[0;34m\u001b[0m\u001b[0;34m\u001b[0m\u001b[0m\n\u001b[1;32m     26\u001b[0m     \u001b[0mdata\u001b[0m \u001b[0;34m=\u001b[0m \u001b[0;34m[\u001b[0m\u001b[0mcontent\u001b[0m\u001b[0;34m]\u001b[0m\u001b[0;34m\u001b[0m\u001b[0;34m\u001b[0m\u001b[0m\n\u001b[0;32m---> 27\u001b[0;31m     \u001b[0;32mfor\u001b[0m \u001b[0mkey\u001b[0m\u001b[0;34m,\u001b[0m \u001b[0mvalue\u001b[0m \u001b[0;32min\u001b[0m \u001b[0mlabelDict\u001b[0m\u001b[0;34m.\u001b[0m\u001b[0miteritems\u001b[0m\u001b[0;34m(\u001b[0m\u001b[0;34m)\u001b[0m\u001b[0;34m:\u001b[0m\u001b[0;34m\u001b[0m\u001b[0;34m\u001b[0m\u001b[0m\n\u001b[0m\u001b[1;32m     28\u001b[0m         \u001b[0mdata\u001b[0m\u001b[0;34m.\u001b[0m\u001b[0mappend\u001b[0m\u001b[0;34m(\u001b[0m\u001b[0mvalue\u001b[0m\u001b[0;34m)\u001b[0m\u001b[0;34m\u001b[0m\u001b[0;34m\u001b[0m\u001b[0m\n\u001b[1;32m     29\u001b[0m \u001b[0;34m\u001b[0m\u001b[0m\n",
      "\u001b[0;31mAttributeError\u001b[0m: 'dict' object has no attribute 'iteritems'"
     ]
    }
   ],
   "source": [
    "# Interate jsondata from index 0 until 8621 (jsondata[8682] is empty)\n",
    "for i in range(0, 8):\n",
    "    jdata = json.loads(jsondata[i])\n",
    "    \n",
    "    #in this case, we only use cotent and label info\n",
    "    content = jdata['content']\n",
    "    labels = jdata['annotation']['labels']\n",
    "    \n",
    "    # Initiate the dictionary\n",
    "    label_dict = {\n",
    "        'trust': 0,\n",
    "        'fear': 0,\n",
    "        'surprise': 0,\n",
    "        'sadness': 0,\n",
    "        'disgust': 0,\n",
    "        'anger': 0,\n",
    "        'anticipation': 0,\n",
    "        'joy': 0\n",
    "    }\n",
    "    \n",
    "    # iterate the labels\n",
    "    for label in labels:\n",
    "        label_dict[label] += 1\n",
    "    \n",
    "    # Data's format will be ['text', 'trust', 'fear', 'surprise', 'sadness', 'disgust', 'anger', 'anticipation', 'joy']\n",
    "    data = [content]\n",
    "    for key, value in label_dict.iteritems():\n",
    "        data.append(value)\n",
    "    \n",
    "    data = pd.DataFrame([data], columns=['text', 'trust', 'fear', 'surprise', 'sadness', 'disgust', 'anger', 'anticipation', 'joy'])\n",
    "    df = df.append(data, ignore_index=True)\n",
    "df"
   ]
  },
  {
   "cell_type": "code",
   "execution_count": null,
   "metadata": {},
   "outputs": [],
   "source": []
  }
 ],
 "metadata": {
  "kernelspec": {
   "display_name": "Python 3",
   "language": "python",
   "name": "python3"
  },
  "language_info": {
   "codemirror_mode": {
    "name": "ipython",
    "version": 3
   },
   "file_extension": ".py",
   "mimetype": "text/x-python",
   "name": "python",
   "nbconvert_exporter": "python",
   "pygments_lexer": "ipython3",
   "version": "3.6.7"
  }
 },
 "nbformat": 4,
 "nbformat_minor": 2
}

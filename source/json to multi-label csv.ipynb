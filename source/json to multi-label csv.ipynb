{
 "cells": [
  {
   "cell_type": "markdown",
   "metadata": {},
   "source": [
    "# Convert <font color='red'>JSON data</font> into <font color='red'>multi-label data in CSV</font>"
   ]
  },
  {
   "cell_type": "code",
   "execution_count": 2,
   "metadata": {
    "scrolled": true
   },
   "outputs": [],
   "source": [
    "import json\n",
    "import pandas as pd"
   ]
  },
  {
   "cell_type": "markdown",
   "metadata": {},
   "source": [
    "Data is about emotion detection in Indonesian user comments.\n",
    "Source: [emotion_riza](https://dataturks.com/projects/rizki.fauzi/emotion_riza)\n",
    "\n",
    "There are 8 labels in classifying the comments:\n",
    "- trust\n",
    "- fear\n",
    "- surprise\n",
    "- sadness\n",
    "- disgust\n",
    "- anger\n",
    "- anticipation\n",
    "- joy"
   ]
  },
  {
   "cell_type": "code",
   "execution_count": 3,
   "metadata": {},
   "outputs": [],
   "source": [
    "# Open file on read mode\n",
    "fp = open('../input/emotion_riza.json')\n",
    "\n",
    "# Create a list containing all lines\n",
    "jsondata = fp.read().split(\"\\n\")\n",
    "\n",
    "# Close file \n",
    "fp.close()"
   ]
  },
  {
   "cell_type": "code",
   "execution_count": 21,
   "metadata": {},
   "outputs": [
    {
     "name": "stdout",
     "output_type": "stream",
     "text": [
      "8683 \n"
     ]
    }
   ],
   "source": [
    "# Prepare the dataframe\n",
    "df = pd.DataFrame(columns=['text', 'trust', 'fear', 'surprise', 'sadness', 'disgust', 'anger', 'anticipation', 'joy'])\n",
    "\n",
    "# Check the legnth of jsondata\n",
    "print(len(jsondata), jsondata[8682])"
   ]
  },
  {
   "cell_type": "code",
   "execution_count": 22,
   "metadata": {},
   "outputs": [
    {
     "name": "stdout",
     "output_type": "stream",
     "text": [
      "{\"content\": \"@04Nakula @jokowi @prabowo @Gerindra @DailymotionUSA pdhl poros ke3 ini sebenarnya mau nelikung koalisi dr @prabowo…\",\"annotation\":{\"labels\":[\"joy\"],\"note\":\"\"},\"extras\":null,\"metadata\":{\"first_done_at\":1527710555000,\"last_updated_at\":1527710555000,\"sec_taken\":6,\"last_updated_by\":\"a31puKbtO4fdTOgO7YPfppu3GR52\",\"status\":\"done\",\"evaluation\":\"NONE\"}}\n"
     ]
    }
   ],
   "source": [
    "# See the structure of json data\n",
    "print(jsondata[0])"
   ]
  },
  {
   "cell_type": "code",
   "execution_count": 20,
   "metadata": {},
   "outputs": [
    {
     "data": {
      "text/plain": [
       "{'trust': 1}"
      ]
     },
     "execution_count": 20,
     "metadata": {},
     "output_type": "execute_result"
    }
   ],
   "source": []
  },
  {
   "cell_type": "code",
   "execution_count": 29,
   "metadata": {},
   "outputs": [],
   "source": [
    "# Interate jsondata from index 0 until 8621 (jsondata[8682] is empty)\n",
    "for i in range(0, 8682):\n",
    "    jdata = json.loads(jsondata[i])\n",
    "    \n",
    "    #in this case, we only use cotent and label info\n",
    "    content = jdata['content']\n",
    "    labels = jdata['annotation']['labels']\n",
    "    \n",
    "    # Initiate the dictionary\n",
    "    label_dict = {\n",
    "        'trust': 0,\n",
    "        'fear': 0,\n",
    "        'surprise': 0,\n",
    "        'sadness': 0,\n",
    "        'disgust': 0,\n",
    "        'anger': 0,\n",
    "        'anticipation': 0,\n",
    "        'joy': 0\n",
    "    }\n",
    "    \n",
    "    # iterate the labels\n",
    "    for label in labels:\n",
    "        label_dict[label] += 1\n",
    "    \n",
    "    # Data's format will be ['text', 'trust', 'fear', 'surprise', 'sadness', 'disgust', 'anger', 'anticipation', 'joy']\n",
    "    data = [content]\n",
    "    for key, value in label_dict.items():\n",
    "        data.append(value)\n",
    "    \n",
    "    data = pd.DataFrame([data], columns=['text', 'trust', 'fear', 'surprise', 'sadness', 'disgust', 'anger', 'anticipation', 'joy'])\n",
    "    df = df.append(data, ignore_index=True)"
   ]
  },
  {
   "cell_type": "code",
   "execution_count": 30,
   "metadata": {},
   "outputs": [
    {
     "data": {
      "text/html": [
       "<div>\n",
       "<style scoped>\n",
       "    .dataframe tbody tr th:only-of-type {\n",
       "        vertical-align: middle;\n",
       "    }\n",
       "\n",
       "    .dataframe tbody tr th {\n",
       "        vertical-align: top;\n",
       "    }\n",
       "\n",
       "    .dataframe thead th {\n",
       "        text-align: right;\n",
       "    }\n",
       "</style>\n",
       "<table border=\"1\" class=\"dataframe\">\n",
       "  <thead>\n",
       "    <tr style=\"text-align: right;\">\n",
       "      <th></th>\n",
       "      <th>text</th>\n",
       "      <th>trust</th>\n",
       "      <th>fear</th>\n",
       "      <th>surprise</th>\n",
       "      <th>sadness</th>\n",
       "      <th>disgust</th>\n",
       "      <th>anger</th>\n",
       "      <th>anticipation</th>\n",
       "      <th>joy</th>\n",
       "    </tr>\n",
       "  </thead>\n",
       "  <tbody>\n",
       "    <tr>\n",
       "      <th>0</th>\n",
       "      <td>@04Nakula @jokowi @prabowo @Gerindra @Dailymot...</td>\n",
       "      <td>0</td>\n",
       "      <td>0</td>\n",
       "      <td>0</td>\n",
       "      <td>0</td>\n",
       "      <td>0</td>\n",
       "      <td>0</td>\n",
       "      <td>0</td>\n",
       "      <td>1</td>\n",
       "    </tr>\n",
       "    <tr>\n",
       "      <th>1</th>\n",
       "      <td>@Achmadr06327297 @fadlizon @Gerindra @prabowo ...</td>\n",
       "      <td>0</td>\n",
       "      <td>0</td>\n",
       "      <td>0</td>\n",
       "      <td>0</td>\n",
       "      <td>0</td>\n",
       "      <td>0</td>\n",
       "      <td>0</td>\n",
       "      <td>1</td>\n",
       "    </tr>\n",
       "    <tr>\n",
       "      <th>2</th>\n",
       "      <td>@Gerindra @PKSejahtera @prabowo Seandainya sek...</td>\n",
       "      <td>0</td>\n",
       "      <td>1</td>\n",
       "      <td>0</td>\n",
       "      <td>0</td>\n",
       "      <td>0</td>\n",
       "      <td>0</td>\n",
       "      <td>0</td>\n",
       "      <td>0</td>\n",
       "    </tr>\n",
       "    <tr>\n",
       "      <th>3</th>\n",
       "      <td>@fadlizon @Gerindra @prabowo Saya dukung pak p...</td>\n",
       "      <td>0</td>\n",
       "      <td>0</td>\n",
       "      <td>0</td>\n",
       "      <td>0</td>\n",
       "      <td>0</td>\n",
       "      <td>0</td>\n",
       "      <td>0</td>\n",
       "      <td>1</td>\n",
       "    </tr>\n",
       "    <tr>\n",
       "      <th>4</th>\n",
       "      <td>@Gerindra @PKSejahtera Mencari yang setia dan ...</td>\n",
       "      <td>1</td>\n",
       "      <td>0</td>\n",
       "      <td>0</td>\n",
       "      <td>0</td>\n",
       "      <td>0</td>\n",
       "      <td>0</td>\n",
       "      <td>0</td>\n",
       "      <td>0</td>\n",
       "    </tr>\n",
       "  </tbody>\n",
       "</table>\n",
       "</div>"
      ],
      "text/plain": [
       "                                                text trust fear surprise  \\\n",
       "0  @04Nakula @jokowi @prabowo @Gerindra @Dailymot...     0    0        0   \n",
       "1  @Achmadr06327297 @fadlizon @Gerindra @prabowo ...     0    0        0   \n",
       "2  @Gerindra @PKSejahtera @prabowo Seandainya sek...     0    1        0   \n",
       "3  @fadlizon @Gerindra @prabowo Saya dukung pak p...     0    0        0   \n",
       "4  @Gerindra @PKSejahtera Mencari yang setia dan ...     1    0        0   \n",
       "\n",
       "  sadness disgust anger anticipation joy  \n",
       "0       0       0     0            0   1  \n",
       "1       0       0     0            0   1  \n",
       "2       0       0     0            0   0  \n",
       "3       0       0     0            0   1  \n",
       "4       0       0     0            0   0  "
      ]
     },
     "execution_count": 30,
     "metadata": {},
     "output_type": "execute_result"
    }
   ],
   "source": [
    "df.head()"
   ]
  },
  {
   "cell_type": "code",
   "execution_count": 32,
   "metadata": {},
   "outputs": [],
   "source": [
    "df.to_csv(r'../input/multi-label_emotion.csv', index = None, header=True)"
   ]
  },
  {
   "cell_type": "code",
   "execution_count": null,
   "metadata": {},
   "outputs": [],
   "source": []
  }
 ],
 "metadata": {
  "kernelspec": {
   "display_name": "Python 3",
   "language": "python",
   "name": "python3"
  },
  "language_info": {
   "codemirror_mode": {
    "name": "ipython",
    "version": 3
   },
   "file_extension": ".py",
   "mimetype": "text/x-python",
   "name": "python",
   "nbconvert_exporter": "python",
   "pygments_lexer": "ipython3",
   "version": "3.6.7"
  }
 },
 "nbformat": 4,
 "nbformat_minor": 2
}
